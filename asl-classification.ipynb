{
 "cells": [
  {
   "cell_type": "markdown",
   "metadata": {},
   "source": [
    "# ASL-Alphabet Classification with CNN Model\n",
    "\n",
    "### Author: Augusto Perin\n",
    "\n",
    "##### Model Summary:\n",
    "* 3 2D-Convolutional Layers with 2D-MaxPooling\n",
    "* 1 Flatten Layer\n",
    "* 3 Dense Layers"
   ]
  },
  {
   "cell_type": "code",
   "execution_count": 9,
   "metadata": {},
   "outputs": [
    {
     "ename": "ModuleNotFoundError",
     "evalue": "No module named 'cv2'",
     "output_type": "error",
     "traceback": [
      "\u001b[1;31m---------------------------------------------------------------------------\u001b[0m",
      "\u001b[1;31mModuleNotFoundError\u001b[0m                       Traceback (most recent call last)",
      "Cell \u001b[1;32mIn[9], line 7\u001b[0m\n\u001b[0;32m      5\u001b[0m \u001b[38;5;28;01mfrom\u001b[39;00m \u001b[38;5;21;01mkeras\u001b[39;00m\u001b[38;5;21;01m.\u001b[39;00m\u001b[38;5;21;01mutils\u001b[39;00m \u001b[38;5;28;01mimport\u001b[39;00m image_dataset_from_directory\n\u001b[0;32m      6\u001b[0m \u001b[38;5;28;01mimport\u001b[39;00m \u001b[38;5;21;01mtensorflow\u001b[39;00m \u001b[38;5;28;01mas\u001b[39;00m \u001b[38;5;21;01mtf\u001b[39;00m\n\u001b[1;32m----> 7\u001b[0m \u001b[38;5;28;01mimport\u001b[39;00m \u001b[38;5;21;01mcv2\u001b[39;00m\n\u001b[0;32m      8\u001b[0m \u001b[38;5;28;01mimport\u001b[39;00m \u001b[38;5;21;01mnumpy\u001b[39;00m \u001b[38;5;28;01mas\u001b[39;00m \u001b[38;5;21;01mnp\u001b[39;00m\n",
      "\u001b[1;31mModuleNotFoundError\u001b[0m: No module named 'cv2'"
     ]
    }
   ],
   "source": [
    "# Import of the Libraries\n",
    "from keras.models import Sequential\n",
    "from keras.layers import Conv2D, MaxPooling2D, Flatten, Dense, Rescaling\n",
    "from keras.losses import SparseCategoricalCrossentropy\n",
    "from keras.utils import image_dataset_from_directory\n",
    "import tensorflow as tf\n",
    "import cv2\n",
    "import numpy as np"
   ]
  },
  {
   "cell_type": "code",
   "execution_count": null,
   "metadata": {},
   "outputs": [],
   "source": [
    "# Uncomment below if you need to install Kaggle\n",
    "#!pip install kaggle"
   ]
  },
  {
   "cell_type": "code",
   "execution_count": null,
   "metadata": {},
   "outputs": [],
   "source": [
    "# Download my Dataset from Kaggle\n",
    "!kaggle datasets download -w --unzip -d augustoperin/asl-alphabet-classification"
   ]
  },
  {
   "cell_type": "code",
   "execution_count": 2,
   "metadata": {},
   "outputs": [
    {
     "name": "stdout",
     "output_type": "stream",
     "text": [
      "Found 87000 files belonging to 29 classes.\n",
      "Using 69600 files for training.\n",
      "Found 29 files belonging to 29 classes.\n",
      "Using 5 files for validation.\n"
     ]
    }
   ],
   "source": [
    "# The Train and Test Data\n",
    "train_ds = image_dataset_from_directory(\n",
    "    directory='asl_alphabet_train',\n",
    "    subset='training',\n",
    "    seed=2102,\n",
    "    validation_split=0.2,\n",
    "    image_size=(128,128),\n",
    "    batch_size=64,\n",
    "    color_mode='rgb'\n",
    ")\n",
    "\n",
    "test_ds = image_dataset_from_directory(\n",
    "    directory='asl_alphabet_test',\n",
    "    subset='validation',\n",
    "    seed=2102,\n",
    "    validation_split=0.2,\n",
    "    image_size=(128,128),\n",
    "    batch_size=64,\n",
    "    color_mode='rgb'\n",
    ")"
   ]
  },
  {
   "cell_type": "code",
   "execution_count": 3,
   "metadata": {},
   "outputs": [],
   "source": [
    "AUTOTUNE = tf.data.AUTOTUNE\n",
    "\n",
    "train_ds = train_ds.cache().prefetch(buffer_size=AUTOTUNE)\n",
    "test_ds = test_ds.cache().prefetch(buffer_size=AUTOTUNE)"
   ]
  },
  {
   "cell_type": "code",
   "execution_count": 4,
   "metadata": {},
   "outputs": [],
   "source": [
    "# The Sequential Model\n",
    "model = Sequential()\n",
    "\n",
    "model.add(Rescaling(1./255))\n",
    "\n",
    "model.add(Conv2D(32, 3, activation='relu'))\n",
    "model.add(MaxPooling2D())\n",
    "\n",
    "model.add(Conv2D(32, 3, activation='relu'))\n",
    "model.add(MaxPooling2D())\n",
    "\n",
    "model.add(Flatten())\n",
    "\n",
    "model.add(Dense(128, activation='relu'))\n",
    "\n",
    "model.add(Dense(29))"
   ]
  },
  {
   "cell_type": "code",
   "execution_count": 5,
   "metadata": {},
   "outputs": [],
   "source": [
    "model.compile(optimizer='adam', loss=SparseCategoricalCrossentropy(from_logits=True), metrics=['accuracy'])"
   ]
  },
  {
   "cell_type": "code",
   "execution_count": 8,
   "metadata": {},
   "outputs": [
    {
     "name": "stdout",
     "output_type": "stream",
     "text": [
      "Model: \"sequential\"\n",
      "_________________________________________________________________\n",
      " Layer (type)                Output Shape              Param #   \n",
      "=================================================================\n",
      " rescaling (Rescaling)       (None, 128, 128, 3)       0         \n",
      "                                                                 \n",
      " conv2d (Conv2D)             (None, 126, 126, 32)      896       \n",
      "                                                                 \n",
      " max_pooling2d (MaxPooling2D  (None, 63, 63, 32)       0         \n",
      " )                                                               \n",
      "                                                                 \n",
      " conv2d_1 (Conv2D)           (None, 61, 61, 32)        9248      \n",
      "                                                                 \n",
      " max_pooling2d_1 (MaxPooling  (None, 30, 30, 32)       0         \n",
      " 2D)                                                             \n",
      "                                                                 \n",
      " flatten (Flatten)           (None, 28800)             0         \n",
      "                                                                 \n",
      " dense (Dense)               (None, 128)               3686528   \n",
      "                                                                 \n",
      " dense_1 (Dense)             (None, 29)                3741      \n",
      "                                                                 \n",
      "=================================================================\n",
      "Total params: 3,700,413\n",
      "Trainable params: 3,700,413\n",
      "Non-trainable params: 0\n",
      "_________________________________________________________________\n"
     ]
    }
   ],
   "source": [
    "model.summary()"
   ]
  },
  {
   "cell_type": "code",
   "execution_count": 6,
   "metadata": {},
   "outputs": [
    {
     "name": "stdout",
     "output_type": "stream",
     "text": [
      "Epoch 1/2\n",
      "1088/1088 [==============================] - 301s 276ms/step - loss: 0.9599 - accuracy: 0.7122 - val_loss: 0.0028 - val_accuracy: 1.0000\n",
      "Epoch 2/2\n",
      "1088/1088 [==============================] - 281s 259ms/step - loss: 0.1535 - accuracy: 0.9511 - val_loss: 0.0043 - val_accuracy: 1.0000\n"
     ]
    },
    {
     "data": {
      "text/plain": [
       "<keras.callbacks.History at 0x19648b8f690>"
      ]
     },
     "execution_count": 6,
     "metadata": {},
     "output_type": "execute_result"
    }
   ],
   "source": [
    "model.fit(train_ds, validation_data=test_ds, epochs=2)"
   ]
  },
  {
   "cell_type": "code",
   "execution_count": 7,
   "metadata": {},
   "outputs": [],
   "source": [
    "# Save the entire model\n",
    "model.save('asl_model.keras')"
   ]
  },
  {
   "cell_type": "code",
   "execution_count": null,
   "metadata": {},
   "outputs": [],
   "source": [
    "def predict_from_webcam(model):\n",
    "\n",
    "  # Open webcam\n",
    "  cap = cv2.VideoCapture(0)\n",
    "\n",
    "  # Initialize an empty string to hold the recognized text\n",
    "  recognized_text = \"\"\n",
    "\n",
    "  # Mapping of predicted labels to corresponding ASL signs\n",
    "  labels = [\"A\", \"B\", \"C\", \"D\", \"E\", \"F\", \"G\", \"H\", \"I\", \"J\", \"K\", \"L\", \"M\", \"N\", \"O\", \"P\", \"Q\", \"R\", \"S\", \"T\", \"U\", \"V\", \"W\", \"X\", \"Y\", \"Z\", \"del\", \"nothing\", \"space\"]\n",
    "\n",
    "  while True:\n",
    "      # Capture frame-by-frame\n",
    "      ret, frame = cap.read()\n",
    "      \n",
    "      if not ret:\n",
    "          break\n",
    "      \n",
    "      # Preprocess the frame\n",
    "      img = cv2.resize(frame, (128, 128))\n",
    "      img = img / 255.0\n",
    "      img = np.expand_dims(img, axis=0)\n",
    "      \n",
    "      # Predict the sign\n",
    "      predictions = model.predict(img)\n",
    "      predicted_label = np.argmax(predictions[0])\n",
    "      predicted_sign = labels[predicted_label]\n",
    "      \n",
    "      # Update the recognized text\n",
    "      if predicted_sign == \"del\":\n",
    "          recognized_text = recognized_text[:-1]  # Delete the last character if 'del' is predicted\n",
    "      elif predicted_sign == \"space\":\n",
    "          recognized_text += \" \"  # Add a space if 'space' is predicted\n",
    "      elif predicted_sign != \"nothing\":\n",
    "          recognized_text += predicted_sign  # Add the predicted sign to the recognized text\n",
    "      \n",
    "      # Display the resulting frame with the recognized text\n",
    "      cv2.putText(frame, recognized_text, (10, 450), cv2.FONT_HERSHEY_SIMPLEX, 1, (0, 255, 0), 2, cv2.LINE_AA)\n",
    "      cv2.putText(frame, f\"Predicted: {predicted_sign}\", (10, 50), cv2.FONT_HERSHEY_SIMPLEX, 1, (0, 255, 0), 2, cv2.LINE_AA)\n",
    "      cv2.imshow('ASL Translator', frame)\n",
    "      \n",
    "      # Break the loop on 'q' key press\n",
    "      if cv2.waitKey(1) & 0xFF == ord('q'):\n",
    "          break\n",
    "\n",
    "  # When everything done, release the capture\n",
    "  cap.release()\n",
    "  cv2.destroyAllWindows()"
   ]
  },
  {
   "cell_type": "code",
   "execution_count": null,
   "metadata": {},
   "outputs": [],
   "source": [
    "# Load the saved model\n",
    "model = tf.keras.models.load_model('asl_model.keras')\n",
    "\n",
    "# Call the prediction function\n",
    "predict_from_webcam(model)"
   ]
  }
 ],
 "metadata": {
  "kernelspec": {
   "display_name": "Python 3",
   "language": "python",
   "name": "python3"
  },
  "language_info": {
   "codemirror_mode": {
    "name": "ipython",
    "version": 3
   },
   "file_extension": ".py",
   "mimetype": "text/x-python",
   "name": "python",
   "nbconvert_exporter": "python",
   "pygments_lexer": "ipython3",
   "version": "3.11.9"
  }
 },
 "nbformat": 4,
 "nbformat_minor": 2
}
